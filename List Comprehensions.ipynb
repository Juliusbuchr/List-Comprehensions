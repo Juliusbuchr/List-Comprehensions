{
 "cells": [
  {
   "cell_type": "markdown",
   "id": "eefbc087",
   "metadata": {},
   "source": [
    "# Short notes on list comprehensions\n",
    "\n",
    "Often we want to create a lot of differen\n",
    "t lists for which the values are e.g. depended on other lists. As an example let's say we have a list with y-values for a graph we want to plot, but are lacking the x-axis we could do something like the following"
   ]
  },
  {
   "cell_type": "code",
   "execution_count": 5,
   "id": "e47d523e",
   "metadata": {},
   "outputs": [
    {
     "data": {
      "text/plain": [
       "[1, 2, 3, 4, 5, 6, 7]"
      ]
     },
     "execution_count": 5,
     "metadata": {},
     "output_type": "execute_result"
    }
   ],
   "source": [
    "y = [1, 5, 3, 6, 8, 7, 10]\n",
    "x = []\n",
    "\n",
    "for i in range(len(y)):\n",
    "    i = i+1\n",
    "    x.append(i)\n",
    "x"
   ]
  },
  {
   "cell_type": "markdown",
   "id": "18aa3542",
   "metadata": {},
   "source": [
    "thus getting us the values for the x-axis that could be for example time. Apparently, something called list comprehensions makes this a lot easier to do in less code. "
   ]
  },
  {
   "cell_type": "code",
   "execution_count": null,
   "id": "93aca0bf",
   "metadata": {},
   "outputs": [],
   "source": [
    "# The syntax is the following \n",
    "\n",
    "newlist = [expression for item in iterable if condition == True]"
   ]
  },
  {
   "cell_type": "code",
   "execution_count": 9,
   "id": "392140bb",
   "metadata": {},
   "outputs": [
    {
     "data": {
      "text/plain": [
       "[1, 2, 3, 4, 5, 6, 7]"
      ]
     },
     "execution_count": 9,
     "metadata": {},
     "output_type": "execute_result"
    }
   ],
   "source": [
    "# So for the example above we could have wrote\n",
    "\n",
    "x = [i+1 for i in range(len(y))]\n",
    "x"
   ]
  },
  {
   "cell_type": "code",
   "execution_count": 11,
   "id": "92d9c920",
   "metadata": {},
   "outputs": [
    {
     "data": {
      "text/plain": [
       "['TSLA', 'MSFT']"
      ]
     },
     "execution_count": 11,
     "metadata": {},
     "output_type": "execute_result"
    }
   ],
   "source": [
    "# Where we did i+1 because we wanted to start at time 1\n",
    "# We can apply all sorts of conditions, another example:\n",
    "\n",
    "stocks = [\"AAPL\", \"TSLA\", \"MSFT\"]\n",
    "\n",
    "stocks_with_s = [i for i in stocks if \"S\" in i]\n",
    "stocks_with_s"
   ]
  },
  {
   "cell_type": "markdown",
   "id": "2771675b",
   "metadata": {},
   "source": [
    "This is a more compact way of writing to/new lists and should definitely be used when doing more trivial list manipulation. However, if it is important for the understanding to explicitly show the for-loop iterations this should still be \"worth it\". \n",
    "\n",
    "End of note. "
   ]
  }
 ],
 "metadata": {
  "kernelspec": {
   "display_name": "Python 3 (ipykernel)",
   "language": "python",
   "name": "python3"
  },
  "language_info": {
   "codemirror_mode": {
    "name": "ipython",
    "version": 3
   },
   "file_extension": ".py",
   "mimetype": "text/x-python",
   "name": "python",
   "nbconvert_exporter": "python",
   "pygments_lexer": "ipython3",
   "version": "3.9.13"
  }
 },
 "nbformat": 4,
 "nbformat_minor": 5
}
